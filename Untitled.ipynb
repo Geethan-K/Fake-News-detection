{
 "cells": [
  {
   "cell_type": "code",
   "execution_count": null,
   "id": "afa5990f-c272-4a3a-a688-2127136fbaf3",
   "metadata": {},
   "outputs": [],
   "source": [
    "import numpy as p\n",
    "import pandas as pd\n",
    "import re\n",
    "from nltk.corpus import stopwords\n",
    "from nltk.stem.porter import PorterStemmer\n",
    "from sklearn.feature_extraction.text import TfidfVectorizer\n",
    "from sklearn.model_selection import train_test_split\n",
    "from sklearn.linear_model import LogisticRegression\n",
    "from sklearn.metrics import accuracy_score\n"
   ]
  },
  {
   "cell_type": "code",
   "execution_count": null,
   "id": "206b96fe-10fc-43aa-a978-842ff72b3a9c",
   "metadata": {},
   "outputs": [],
   "source": [
    "import nltk\n",
    "nltk.download('stopwords')"
   ]
  },
  {
   "cell_type": "code",
   "execution_count": null,
   "id": "a7ad0245-53f6-4c00-945a-2795c38451fd",
   "metadata": {},
   "outputs": [],
   "source": [
    "print(stopwords.words('english'))"
   ]
  },
  {
   "cell_type": "code",
   "execution_count": null,
   "id": "3d650a4c-0b51-42cc-bf98-918f189e850c",
   "metadata": {},
   "outputs": [],
   "source": [
    "## DATA PREPROCESSING\n",
    "\n",
    "news_df = pd.read_csv(r'C:\\ML fake-news-prediction\\Fake-News-detection\\dataset\\fake_news_dataset.csv')\n",
    "news_df.shape"
   ]
  },
  {
   "cell_type": "code",
   "execution_count": null,
   "id": "c7e974d1-6df8-4ba2-b58f-3b7584c713aa",
   "metadata": {},
   "outputs": [],
   "source": [
    "news_df.head(3)"
   ]
  },
  {
   "cell_type": "code",
   "execution_count": null,
   "id": "107063c2-aec9-4c85-82f0-6ecab5fb534d",
   "metadata": {},
   "outputs": [],
   "source": [
    "### COUNT THE NO.OF MISSING VALUES IN ALL DATASET\n",
    "\n",
    "news_df.isnull().sum()"
   ]
  },
  {
   "cell_type": "code",
   "execution_count": null,
   "id": "c813bdf6-b069-4fdf-b607-10d3debf40f1",
   "metadata": {},
   "outputs": [],
   "source": [
    "news_df = news_df.fillna('')"
   ]
  },
  {
   "cell_type": "code",
   "execution_count": null,
   "id": "21eb54d9-bfff-42f9-88cf-7161077a35d6",
   "metadata": {},
   "outputs": [],
   "source": [
    "news_df['content'] = news_df['author'] + '' + news_df['title']\n",
    "print(news_df['content'])"
   ]
  },
  {
   "cell_type": "code",
   "execution_count": null,
   "id": "cd1bf583-8b89-40d2-82c8-eb820103e475",
   "metadata": {},
   "outputs": [],
   "source": [
    "## Seperate labels and features\n",
    "\n",
    "X = news_df.drop(columns='label' , axis=1)\n",
    "Y = news_df['label']"
   ]
  },
  {
   "cell_type": "code",
   "execution_count": null,
   "id": "c9dfee11-2092-470a-aab6-802231f06bdd",
   "metadata": {},
   "outputs": [],
   "source": [
    "print(X.columns)"
   ]
  },
  {
   "cell_type": "code",
   "execution_count": null,
   "id": "bd890065-73d1-43ea-9494-e7937d42aaa7",
   "metadata": {},
   "outputs": [],
   "source": [
    "print(X.content)"
   ]
  },
  {
   "cell_type": "code",
   "execution_count": null,
   "id": "fca3faa4-e288-4051-9407-beed487d93e2",
   "metadata": {},
   "outputs": [],
   "source": [
    "print(Y)"
   ]
  },
  {
   "cell_type": "code",
   "execution_count": null,
   "id": "6740b97d-48e5-40d7-a6b8-1aaf07a1a8d4",
   "metadata": {},
   "outputs": [],
   "source": [
    "port_stem = PorterStemmer()"
   ]
  },
  {
   "cell_type": "code",
   "execution_count": null,
   "id": "407b96e5-5299-455c-83e8-525ffb42afed",
   "metadata": {},
   "outputs": [],
   "source": [
    "def stemming(content):\n",
    "    stemmed_content = re.sub('[^a-zA-Z]' , '', content)\n",
    "    stemmed_content = stemmed_content.lower()\n",
    "    stemmed_content = stemmed_content.split()\n",
    "    stemmed_content = [port_stem.stem(word) for word in stemmed_content if not word in stopwords.words('english')]\n",
    "    stemmed_content = ''.join(stemmed_content)\n",
    "    return stemmed_content"
   ]
  },
  {
   "cell_type": "code",
   "execution_count": null,
   "id": "27062500-47ba-40b4-8b52-a2846a89f5d5",
   "metadata": {},
   "outputs": [],
   "source": [
    "news_df['content'] = news_df['content'].apply(stemming)\n",
    "print(news_df['content'])"
   ]
  },
  {
   "cell_type": "code",
   "execution_count": null,
   "id": "4801f4cd-72d7-4976-9df5-f8c98edc08f4",
   "metadata": {},
   "outputs": [],
   "source": [
    "## Let's use label encoder to convert string categorical data to numerical data\n",
    "\n",
    "from sklearn.preprocessing import LabelEncoder\n",
    "\n",
    "le = LabelEncoder()\n",
    "news_df['label'] = le.fit_transform(news_df['label'])\n",
    "news_df.head(2)"
   ]
  },
  {
   "cell_type": "code",
   "execution_count": null,
   "id": "da15a23d-d971-4200-bc3f-4be1434fe313",
   "metadata": {},
   "outputs": [],
   "source": [
    "X = news_df['content'].values\n",
    "Y = news_df['label'].values"
   ]
  },
  {
   "cell_type": "code",
   "execution_count": null,
   "id": "556dadba-d321-4b18-b985-177bc283a402",
   "metadata": {},
   "outputs": [],
   "source": [
    "print(X)"
   ]
  },
  {
   "cell_type": "code",
   "execution_count": null,
   "id": "b205182c-b73c-432d-a158-b30e821ad8f6",
   "metadata": {},
   "outputs": [],
   "source": [
    "print(Y)"
   ]
  },
  {
   "cell_type": "code",
   "execution_count": null,
   "id": "47d9ea54-3e1a-4609-a1b9-238c063f726e",
   "metadata": {},
   "outputs": [],
   "source": [
    "Y.shape"
   ]
  },
  {
   "cell_type": "code",
   "execution_count": null,
   "id": "73b6a95c-00ea-4574-9030-d8d3d3301f56",
   "metadata": {},
   "outputs": [],
   "source": [
    "## Converting text ata to numerical\n",
    "\n",
    "vectorizer = TfidfVectorizer()\n",
    "vectorizer.fit(X)\n",
    "X = vectorizer.transform(X)\n",
    "print(X)"
   ]
  },
  {
   "cell_type": "code",
   "execution_count": null,
   "id": "16e7012a-dbe6-4987-a646-0dfca5c16c0f",
   "metadata": {},
   "outputs": [],
   "source": [
    "## splitting the training and testing data \n",
    "\n",
    "X_train , X_test , Y_train , Y_test = train_test_split( X , Y , test_size=0.2 , stratify = Y , random_state=2)\n"
   ]
  },
  {
   "cell_type": "code",
   "execution_count": null,
   "id": "9ed29463-0dca-4bc8-92af-1098de2ff1e4",
   "metadata": {},
   "outputs": [],
   "source": [
    "X_train.shape"
   ]
  },
  {
   "cell_type": "code",
   "execution_count": null,
   "id": "c54723b0-d9dc-4e64-853b-4d1a2effb8c4",
   "metadata": {},
   "outputs": [],
   "source": [
    "Y_train.shape"
   ]
  },
  {
   "cell_type": "code",
   "execution_count": null,
   "id": "e575e953-2f54-4484-b4d6-5c52b742432d",
   "metadata": {},
   "outputs": [],
   "source": [
    "## Training the model \n",
    "\n",
    "log_reg_model = LogisticRegression()\n",
    "log_reg_model.fit(X_train , Y_train)"
   ]
  },
  {
   "cell_type": "code",
   "execution_count": null,
   "id": "28c73807-8937-4e20-b23b-7167ab43f169",
   "metadata": {},
   "outputs": [],
   "source": [
    "## Evaluation on training data\n",
    "\n",
    "X_train_prediction = log_reg_model.predict(X_train)\n",
    "training_data_accuracy = accuracy_score(X_train_prediction , Y_train)\n",
    "print('Accuracy score of the training data :' , training_data_accuracy)"
   ]
  },
  {
   "cell_type": "code",
   "execution_count": null,
   "id": "ac4cbaac-71ba-4cef-bf87-30a6a13e7c4d",
   "metadata": {},
   "outputs": [],
   "source": [
    "## Evaluation on test data\n",
    "\n",
    "X_test_prediction = log_reg_model.predict(X_test)\n",
    "test_data_accuracy = accuracy_score(X_test_prediction , Y_test)"
   ]
  },
  {
   "cell_type": "code",
   "execution_count": null,
   "id": "56216fc1-653b-4e08-9de3-65e859eb177f",
   "metadata": {},
   "outputs": [],
   "source": [
    "print('Accuracy of test data :' , test_data_accuracy)"
   ]
  },
  {
   "cell_type": "code",
   "execution_count": null,
   "id": "c7b345fc-6717-47b4-bb4b-af02192621ad",
   "metadata": {},
   "outputs": [],
   "source": [
    "### SEEMS LIKE OVER FITTING"
   ]
  },
  {
   "cell_type": "code",
   "execution_count": null,
   "id": "27fc9f0a-2f4a-4450-82fa-cae4693076c2",
   "metadata": {},
   "outputs": [],
   "source": [
    "def preprocessing(text):\n",
    "    text = re.sub('[^a-zA-Z]' , ' ' , text)\n",
    "    text= text.lower().split()\n",
    "    stemmer = PorterStemmer()\n",
    "    text = [stemmer.stem(word) for word in text if word not in stopwords.words('english')]\n",
    "    return ''.join(text)\n",
    "\n",
    "news_df['content'] = (news_df['author'] + ' ' + news_df['title']).fillna('').apply(preprocessing)\n"
   ]
  },
  {
   "cell_type": "code",
   "execution_count": null,
   "id": "3750d89d-17c8-4c7f-84e5-7c4be7c5dc58",
   "metadata": {},
   "outputs": [],
   "source": [
    "news_df['content'].head(3)"
   ]
  },
  {
   "cell_type": "code",
   "execution_count": null,
   "id": "f211c705-0e69-4803-9520-957915826f2e",
   "metadata": {},
   "outputs": [],
   "source": [
    "### USE TF-IDF WITH BETTER SETTINGS\n",
    "\n",
    "from sklearn.pipeline import Pipeline\n",
    "from sklearn.linear_model import LogisticRegressionCV\n",
    "from sklearn.feature_extraction.text import TfidfVectorizer\n",
    "\n",
    "pipeline = Pipeline([\n",
    "    ('tfidf', TfidfVectorizer(max_df=0.9, min_df=5, ngram_range=(1, 2))),\n",
    "    ('clf', LogisticRegressionCV(cv=5, penalty='l2', solver='liblinear', max_iter=1000))\n",
    "])"
   ]
  },
  {
   "cell_type": "code",
   "execution_count": null,
   "id": "4bbfd7ca-210b-4d00-a81e-b67dd3f129d3",
   "metadata": {},
   "outputs": [],
   "source": [
    "### TRAIN - TEST - SPLIT and model fitting\n",
    "\n",
    "from sklearn.model_selection import train_test_split\n",
    "from sklearn.metrics import accuracy_score\n",
    "\n",
    "X = news_df['content']\n",
    "Y = news_df['label'].map({'real':1 , 'fake' : 0})\n",
    "\n",
    "X_train , X_test , y_train , y_test = train_test_split( X , Y , test_size=0.2 , stratify=Y , random_state=42)\n",
    "pipeline.fit(X_train , y_train)\n",
    "\n",
    "train_accuracy = pipeline.score(X_train , y_train)\n",
    "test_accuracy = pipeline.score(X_test , y_test)\n",
    "\n",
    "print(\"Training Accuracy:\", train_accuracy)\n",
    "print(\"Test Accuracy:\", test_accuracy)"
   ]
  },
  {
   "cell_type": "code",
   "execution_count": null,
   "id": "29105cb6-23c1-49b3-ae6d-a4456df15d48",
   "metadata": {},
   "outputs": [],
   "source": [
    "### EVALUATE our model\n",
    "\n",
    "from sklearn.metrics import accuracy_score , classification_report , confusion_matrix\n",
    "\n",
    "y_pred_train = pipeline.predict(X_train)\n",
    "y_pred_test = pipeline.predict(y_train)\n",
    "\n",
    "print(\"Train Accuracy:\", accuracy_score(y_train, y_pred_train))\n",
    "print(\"Test Accuracy:\", accuracy_score(y_test, y_pred_test))\n",
    "print(\"\\nClassification Report:\\n\", classification_report(y_test, y_pred_test))"
   ]
  },
  {
   "cell_type": "code",
   "execution_count": null,
   "id": "9306685c-b034-4cd4-905d-61fecaa12ec7",
   "metadata": {},
   "outputs": [],
   "source": [
    "### (OPTIONAL) VIEW CONFUSION MATRIX\n",
    "\n",
    "import seaborn as sns\n",
    "import matplotlib.pyplot as plt\n",
    "\n",
    "cm = confusion_matrix(y_test , y_pred_test)\n",
    "\n",
    "plt.figure(figsize=(5,4))\n",
    "sns.heatmap(cm, annot=True, fmt='d', cmap='Blues', xticklabels=['Fake', 'Real'], yticklabels=['Fake', 'Real'])\n",
    "plt.xlabel(\"Predicted\")\n",
    "plt.ylabel(\"Actual\")\n",
    "plt.title(\"Confusion Matrix\")\n",
    "plt.show()"
   ]
  },
  {
   "cell_type": "code",
   "execution_count": null,
   "id": "99140ca7-a304-4ac1-babd-dc81b4bbad0c",
   "metadata": {},
   "outputs": [],
   "source": []
  }
 ],
 "metadata": {
  "kernelspec": {
   "display_name": "Python 3 (ipykernel)",
   "language": "python",
   "name": "python3"
  },
  "language_info": {
   "codemirror_mode": {
    "name": "ipython",
    "version": 3
   },
   "file_extension": ".py",
   "mimetype": "text/x-python",
   "name": "python",
   "nbconvert_exporter": "python",
   "pygments_lexer": "ipython3",
   "version": "3.12.4"
  }
 },
 "nbformat": 4,
 "nbformat_minor": 5
}
